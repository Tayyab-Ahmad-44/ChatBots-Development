{
 "cells": [
  {
   "cell_type": "code",
   "execution_count": null,
   "id": "db7ccfc6-8e5b-4c08-b5e7-0c3dd300826a",
   "metadata": {},
   "outputs": [],
   "source": [
    "api_key = \"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\""
   ]
  },
  {
   "cell_type": "code",
   "execution_count": 37,
   "id": "b4484857-823a-434c-890e-81313fe3065e",
   "metadata": {},
   "outputs": [],
   "source": [
    "\n",
    "from langchain_community.embeddings import OllamaEmbeddings\n",
    "from langchain.text_splitter import RecursiveCharacterTextSplitter\n",
    "from langchain_community.vectorstores import Chroma\n",
    "from langchain.chains import ConversationalRetrievalChain\n",
    "from langchain.memory import ChatMessageHistory, ConversationBufferMemory\n",
    "from langchain_community.document_loaders import PyPDFLoader\n",
    "import chainlit as cl \n",
    "from langchain_groq import ChatGroq\n",
    "from dotenv import load_dotenv\n",
    "import os\n",
    "# import PyPDF2\n"
   ]
  },
  {
   "cell_type": "markdown",
   "id": "5c150ef4",
   "metadata": {},
   "source": [
    "Loading envoirnment variables from .env file"
   ]
  },
  {
   "cell_type": "code",
   "execution_count": 26,
   "id": "122da8f8-1a70-4a95-a0fe-344ab2e47ffa",
   "metadata": {},
   "outputs": [
    {
     "data": {
      "text/plain": [
       "True"
      ]
     },
     "execution_count": 26,
     "metadata": {},
     "output_type": "execute_result"
    }
   ],
   "source": [
    "load_dotenv()"
   ]
  },
  {
   "cell_type": "markdown",
   "id": "e7997571",
   "metadata": {},
   "source": [
    "Function to start conversation chain with groq language model"
   ]
  },
  {
   "cell_type": "code",
   "execution_count": 30,
   "id": "93cb1ab9",
   "metadata": {},
   "outputs": [],
   "source": [
    "groq_api_key = os.environ[\"GROQ_API_KEY\"]"
   ]
  },
  {
   "cell_type": "markdown",
   "id": "3cb582d7",
   "metadata": {},
   "source": [
    "Initializing groq chat with provided api key, model and settings"
   ]
  },
  {
   "cell_type": "code",
   "execution_count": 31,
   "id": "3a5b184f",
   "metadata": {},
   "outputs": [],
   "source": [
    "llm_groq = ChatGroq(\n",
    "    groq_api_key = groq_api_key, \n",
    "    model = \"llama3-70b-8192\",\n",
    "    temperature = 0.6,\n",
    ")"
   ]
  },
  {
   "cell_type": "code",
   "execution_count": 35,
   "id": "fe7a432e",
   "metadata": {},
   "outputs": [],
   "source": [
    "@cl.on_chat_start\n",
    "async def on_chat_start():\n",
    "    files = None # Initialize NULL to store uploaded files\n",
    "    \n",
    "    # Wait for user to upload files\n",
    "    while files is None:\n",
    "        files = await cl.AskFileMessage(\n",
    "            content = \"Please upload one or more pdf files to begin!\",\n",
    "            accept = [\"application/pdf\"],\n",
    "            max_size_mb = 800, # Optionally limit the size of pdf\n",
    "            max_files = 10,\n",
    "            timeout = 180, # Set a timeout for user response\n",
    "        ).send()\n",
    "        \n",
    "    # Process each input file\n",
    "    texts = []\n",
    "    meta\n",
    "    "
   ]
  },
  {
   "cell_type": "code",
   "execution_count": null,
   "id": "bedbe88f",
   "metadata": {},
   "outputs": [],
   "source": [
    "\n"
   ]
  }
 ],
 "metadata": {
  "kernelspec": {
   "display_name": "Python 3 (ipykernel)",
   "language": "python",
   "name": "python3"
  },
  "language_info": {
   "codemirror_mode": {
    "name": "ipython",
    "version": 3
   },
   "file_extension": ".py",
   "mimetype": "text/x-python",
   "name": "python",
   "nbconvert_exporter": "python",
   "pygments_lexer": "ipython3",
   "version": "3.11.5"
  }
 },
 "nbformat": 4,
 "nbformat_minor": 5
}
