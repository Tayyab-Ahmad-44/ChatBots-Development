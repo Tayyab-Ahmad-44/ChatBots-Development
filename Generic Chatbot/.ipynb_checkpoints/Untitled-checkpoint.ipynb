{
 "cells": [
  {
   "cell_type": "code",
   "execution_count": null,
   "id": "db7ccfc6-8e5b-4c08-b5e7-0c3dd300826a",
   "metadata": {},
   "outputs": [],
   "source": [
    "api_key = \"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\""
   ]
  },
  {
   "cell_type": "code",
   "execution_count": 37,
   "id": "b4484857-823a-434c-890e-81313fe3065e",
   "metadata": {},
   "outputs": [],
   "source": [
    "\n",
    "from langchain_community.embeddings import OllamaEmbeddings\n",
    "from langchain.text_splitter import RecursiveCharacterTextSplitter\n",
    "from langchain_community.vectorstores import Chroma\n",
    "from langchain.chains import ConversationalRetrievalChain\n",
    "from langchain.memory import ChatMessageHistory, ConversationBufferMemory\n",
    "from langchain_community.document_loaders import PyPDFLoader\n",
    "import chainlit as cl \n",
    "from langchain_groq import ChatGroq\n",
    "from dotenv import load_dotenv\n",
    "import os\n",
    "# import PyPDF2\n"
   ]
  },
  {
   "cell_type": "markdown",
   "id": "5c150ef4",
   "metadata": {},
   "source": [
    "Loading envoirnment variables from .env file"
   ]
  },
  {
   "cell_type": "code",
   "execution_count": 26,
   "id": "122da8f8-1a70-4a95-a0fe-344ab2e47ffa",
   "metadata": {},
   "outputs": [
    {
     "data": {
      "text/plain": [
       "True"
      ]
     },
     "execution_count": 26,
     "metadata": {},
     "output_type": "execute_result"
    }
   ],
   "source": [
    "load_dotenv()"
   ]
  },
  {
   "cell_type": "markdown",
   "id": "e7997571",
   "metadata": {},
   "source": [
    "Function to start conversation chain with groq language model"
   ]
  },
  {
   "cell_type": "code",
   "execution_count": 30,
   "id": "93cb1ab9",
   "metadata": {},
   "outputs": [],
   "source": [
    "groq_api_key = os.environ[\"GROQ_API_KEY\"]"
   ]
  },
  {
   "cell_type": "markdown",
   "id": "3cb582d7",
   "metadata": {},
   "source": [
    "Initializing groq chat with provided api key, model and settings"
   ]
  },
  {
   "cell_type": "code",
   "execution_count": 31,
   "id": "3a5b184f",
   "metadata": {},
   "outputs": [],
   "source": [
    "llm_groq = ChatGroq(\n",
    "    groq_api_key = groq_api_key, \n",
    "    model = \"llama3-70b-8192\",\n",
    "    temperature = 0.6,\n",
    ")"
   ]
  },
  {
   "cell_type": "code",
   "execution_count": 35,
   "id": "fe7a432e",
   "metadata": {},
   "outputs": [],
   "source": [
    "@cl.on_chat_start\n",
    "async def on_chat_start():\n",
    "    files = None # Initialize NULL to store uploaded files\n",
    "    \n",
    "    # Wait for user to upload files\n",
    "    while files is None:\n",
    "        files = await cl.AskFileMessage(\n",
    "            content = \"Please upload one or more pdf files to begin!\",\n",
    "            accept = [\"application/pdf\"],\n",
    "            max_size_mb = 800, # Optionally limit the size of pdf\n",
    "            max_files = 10,\n",
    "            timeout = 180, # Set a timeout for user response\n",
    "        ).send()\n",
    "        \n",
    "    # Process each input file\n",
    "    texts = []\n",
    "    metadatas = []\n",
    "\n",
    "    for file in files:\n",
    "        pdf = fitz.open(file.path)\n",
    "\n",
    "        pdf_text = \"\"\n",
    "        # Iterate through pages and extract text\n",
    "        for page in pdf:\n",
    "        # Extract text with optional sorting for reading order\n",
    "            extracted_page_text = page.get_text(sort=True)\n",
    "            pdf_text += extracted_page_text + \"\\n\"  # Add newline for separation\n",
    "\n",
    "        # Split the text into chunks.\n",
    "        text_splitter = RecursiveCharacterTextSplitter(chunk_size = 1000, chunk_overlap = 100)\n",
    "        file_texts = text_splitter.split_text(pdf_text)\n",
    "        texts.extend(file_texts)\n",
    "\n",
    "        # Create a metadata for each chunk\n",
    "        file_metadatas = [{\"source:\" f\"{i}-{file.name}\"} for i in range(len(file_texts)]\n",
    "        metadatas.extend(file_metadatas)\n",
    "        \n",
    "    # Create a Chroma Vector Store\n",
    "    embeddings = OllamaEmbeddings(model = \"nomic-embed-text\")\n",
    "    docsearch = await cl.make_async(Chroma.from_texts)(\n",
    "        texts, embeddings, metadatas = metadatas\n",
    "    )\n",
    "\n",
    "    # Initialize message history for conversation\n",
    "    message_history = ChatMessageHistory()\n",
    "\n",
    "    # Memory for conversational context\n",
    "    memory = ConversationalBufferMemory(\n",
    "        memory_key = \"chat_history\",\n",
    "        output_key = \"answer\",\n",
    "        chat_memory = message_history,\n",
    "        return_messages = True,\n",
    "    )\n",
    "\n",
    "    # Create a chain that uses Chroma Vector Store\n",
    "    chain = ConversationalRetrievalChain.from_llm(\n",
    "        llm = llm_groq,\n",
    "        chain_type = \"stuff\",\n",
    "        retriever = docsearch.as_retriever(),\n",
    "        memory = memory,\n",
    "        return_source_documents = True,\n",
    "    )\n",
    "\n",
    "    # Sending an image with number of files\n",
    "    elements = [\n",
    "        c1.Image(name = \"image\", display = \"inline\", path = \"hot.jpg\")\n",
    "    ]\n",
    "\n",
    "    # Inform the user that processsing has been ended. You can chat now.\n",
    "    msg = cl.Message(content = f\"Processed {len(files)} files done. You can now ask questions!\", elements = elements)\n",
    "    await msg.send()\n",
    "\n",
    "    # Store the chain in user session\n",
    "    cl.user_session.set(\"chain\", chain)\n"
   ]
  },
  {
   "cell_type": "code",
   "execution_count": 3,
   "id": "bedbe88f",
   "metadata": {},
   "outputs": [],
   "source": [
    "@cl.on_message\n",
    "async def main(message: cl.Message):\n",
    "    # Retrieve the chain from user session\n",
    "    chain = cl.user_session.get(\"chain\")\n",
    "\n",
    "    # Call back happens asynchronously/parallel\n",
    "    cb = cl.AsyncLangchainCallbackHandler()\n",
    "\n",
    "    # Call the chain with user's message content\n",
    "    res = await chain.ainvoke(message.content, callbacks = [cb])\n",
    "    answer = res[\"answer\"]\n",
    "    source_documents = res[\"source_documents\"]\n",
    "\n",
    "    text_elements = [] # Initialize list to store text elements\n",
    "\n",
    "    # Process source_documents if available\n",
    "    if source_documents:\n",
    "        for source-idx, source_doc in enumerate(source_documents):\n",
    "            source_name = f\"source_{source_idx}\"\n",
    "\n",
    "            # Create the text element referenced in the message\n",
    "            text_elements.append(\n",
    "                cl.Text(content = source_doc.page_content, name = source_name)                \n",
    "            )\n",
    "\n",
    "        source_names = [text_el.name for text_el in text_elements]\n",
    "\n",
    "        # Add source references to the answer\n",
    "        if source_names:\n",
    "            answer += f\"\\nSources: {', ' .join(source_names)}\"\n",
    "        else:\n",
    "            answer += \"No sources found!\"\n",
    "\n",
    "    # Return Results\n",
    "    await cl.Message(content = answer, elements = text_elements).send()"
   ]
  },
  {
   "cell_type": "code",
   "execution_count": null,
   "id": "52354b60-f93f-420c-ad9e-d36ef619c841",
   "metadata": {},
   "outputs": [],
   "source": []
  }
 ],
 "metadata": {
  "kernelspec": {
   "display_name": "Python 3 (ipykernel)",
   "language": "python",
   "name": "python3"
  },
  "language_info": {
   "codemirror_mode": {
    "name": "ipython",
    "version": 3
   },
   "file_extension": ".py",
   "mimetype": "text/x-python",
   "name": "python",
   "nbconvert_exporter": "python",
   "pygments_lexer": "ipython3",
   "version": "3.11.5"
  }
 },
 "nbformat": 4,
 "nbformat_minor": 5
}
